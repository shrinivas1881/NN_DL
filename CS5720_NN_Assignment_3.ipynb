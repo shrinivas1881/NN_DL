{
  "nbformat": 4,
  "nbformat_minor": 0,
  "metadata": {
    "colab": {
      "provenance": [],
      "gpuType": "T4"
    },
    "kernelspec": {
      "name": "python3",
      "display_name": "Python 3"
    },
    "language_info": {
      "name": "python"
    },
    "accelerator": "GPU"
  },
  "cells": [
    {
      "cell_type": "markdown",
      "source": [
        "**Deep Learning Image Classification with CNN**\n",
        "\n",
        "Lesson Overview:\n",
        "In this lesson, we are going to discuss Image classification with CNN.\n",
        "\n",
        "Use Case Description:\n",
        "\n",
        "Image Classification with CNN\n",
        "\n",
        "1. Training the model\n",
        "\n",
        "2. Evaluating the model\n",
        "\n",
        "Programming elements:\n",
        "\n",
        "1. About CNN\n",
        "\n",
        "2. Hyperparameters of CNN\n",
        "\n",
        "3. Image classification with CNN"
      ],
      "metadata": {
        "id": "nBrnUVTcP2JP"
      }
    },
    {
      "cell_type": "code",
      "execution_count": null,
      "metadata": {
        "id": "5B1HFXKOLmdY"
      },
      "outputs": [],
      "source": [
        "# Simple CNN model for CIFAR-10\n",
        "import numpy as np\n",
        "from keras.datasets import cifar10\n",
        "from keras.models import Sequential\n",
        "from keras.layers import Dense\n",
        "from keras.layers import Dropout\n",
        "from keras.layers import Flatten\n",
        "from keras.constraints import maxnorm\n",
        "from keras.optimizers import SGD\n",
        "from keras.layers.convolutional import Conv2D\n",
        "from keras.layers.convolutional import MaxPooling2D\n",
        "from keras.utils import np_utils"
      ]
    },
    {
      "cell_type": "code",
      "source": [
        "# Fix random seed for reproducibility\n",
        "seed = 7\n",
        "np.random.seed(seed)"
      ],
      "metadata": {
        "id": "d0LemGuwLwuP"
      },
      "execution_count": null,
      "outputs": []
    },
    {
      "cell_type": "code",
      "source": [
        "# Load data\n",
        "(X_train, y_train), (X_test, y_test) = cifar10.load_data()"
      ],
      "metadata": {
        "id": "dRwk7TwWL4C0"
      },
      "execution_count": null,
      "outputs": []
    },
    {
      "cell_type": "code",
      "source": [
        "# Normalize inputs from 0-255 to 0.0-1.0\n",
        "X_train = X_train.astype('float32')\n",
        "X_test = X_test.astype('float32')\n",
        "X_train = X_train / 255.0\n",
        "X_test = X_test / 255.0"
      ],
      "metadata": {
        "id": "eWCfzJLyL8OV"
      },
      "execution_count": null,
      "outputs": []
    },
    {
      "cell_type": "code",
      "source": [
        "# One hot encode outputs\n",
        "y_train = np_utils.to_categorical(y_train)\n",
        "y_test = np_utils.to_categorical(y_test)\n",
        "num_classes = y_test.shape[1]"
      ],
      "metadata": {
        "id": "9vuVz2JvL_4s"
      },
      "execution_count": null,
      "outputs": []
    },
    {
      "cell_type": "code",
      "source": [
        "# Create the model\n",
        "model = Sequential()\n",
        "model.add(Conv2D(32, (3, 3), input_shape=( 32, 32, 3 ), padding='same', activation='relu', kernel_constraint=maxnorm(3)))\n",
        "model.add(Dropout(0.2))\n",
        "model.add(Conv2D(32, (3, 3), activation='relu', padding='same', kernel_constraint=maxnorm(3)))\n",
        "model.add(MaxPooling2D(pool_size=(2, 2)))\n",
        "model.add(Flatten())\n",
        "model.add(Dense(512, activation='relu', kernel_constraint=maxnorm(3)))\n",
        "model.add(Dropout(0.5))\n",
        "model.add(Dense(num_classes, activation='softmax'))\n"
      ],
      "metadata": {
        "id": "N7GfsUDvRH7A"
      },
      "execution_count": null,
      "outputs": []
    },
    {
      "cell_type": "code",
      "source": [
        "# Compile model\n",
        "epochs = 25\n",
        "lrate = 0.01\n",
        "decay = lrate/epochs\n",
        "sgd = SGD(learning_rate=lrate, momentum=0.9, decay=decay, nesterov=False)\n",
        "model.compile(loss='categorical_crossentropy', optimizer=sgd, metrics=['accuracy'])\n",
        "print(model.summary())\n"
      ],
      "metadata": {
        "colab": {
          "base_uri": "https://localhost:8080/"
        },
        "id": "Z2qk4MLVfjY4",
        "outputId": "4fd70283-783f-4c80-d7a1-e8337f42b434"
      },
      "execution_count": null,
      "outputs": [
        {
          "output_type": "stream",
          "name": "stdout",
          "text": [
            "Model: \"sequential\"\n",
            "_________________________________________________________________\n",
            " Layer (type)                Output Shape              Param #   \n",
            "=================================================================\n",
            " conv2d (Conv2D)             (None, 32, 32, 32)        896       \n",
            "                                                                 \n",
            " dropout (Dropout)           (None, 32, 32, 32)        0         \n",
            "                                                                 \n",
            " conv2d_1 (Conv2D)           (None, 32, 32, 32)        9248      \n",
            "                                                                 \n",
            " max_pooling2d (MaxPooling2D  (None, 16, 16, 32)       0         \n",
            " )                                                               \n",
            "                                                                 \n",
            " flatten (Flatten)           (None, 8192)              0         \n",
            "                                                                 \n",
            " dense (Dense)               (None, 512)               4194816   \n",
            "                                                                 \n",
            " dropout_1 (Dropout)         (None, 512)               0         \n",
            "                                                                 \n",
            " dense_1 (Dense)             (None, 10)                5130      \n",
            "                                                                 \n",
            "=================================================================\n",
            "Total params: 4,210,090\n",
            "Trainable params: 4,210,090\n",
            "Non-trainable params: 0\n",
            "_________________________________________________________________\n",
            "None\n"
          ]
        }
      ]
    },
    {
      "cell_type": "code",
      "source": [
        "# Fit the model\n",
        "model.fit(X_train, y_train, validation_data=(X_test, y_test), epochs=epochs, batch_size=32)\n",
        "# Final evaluation of the model\n",
        "scores = model.evaluate(X_test, y_test, verbose=0)\n",
        "print(\"Accuracy: %.2f%%\" % (scores[1]*100))"
      ],
      "metadata": {
        "colab": {
          "base_uri": "https://localhost:8080/"
        },
        "id": "2UYsS-5kfmQH",
        "outputId": "2a451a82-2d6f-446a-80de-8e48929c8547"
      },
      "execution_count": null,
      "outputs": [
        {
          "output_type": "stream",
          "name": "stdout",
          "text": [
            "Epoch 1/25\n",
            "1563/1563 [==============================] - 13s 7ms/step - loss: 1.6967 - accuracy: 0.3877 - val_loss: 1.3964 - val_accuracy: 0.4999\n",
            "Epoch 2/25\n",
            "1563/1563 [==============================] - 9s 6ms/step - loss: 1.3724 - accuracy: 0.5056 - val_loss: 1.2746 - val_accuracy: 0.5375\n",
            "Epoch 3/25\n",
            "1563/1563 [==============================] - 9s 6ms/step - loss: 1.2380 - accuracy: 0.5570 - val_loss: 1.1686 - val_accuracy: 0.5804\n",
            "Epoch 4/25\n",
            "1563/1563 [==============================] - 10s 6ms/step - loss: 1.1185 - accuracy: 0.6013 - val_loss: 1.1082 - val_accuracy: 0.6056\n",
            "Epoch 5/25\n",
            "1563/1563 [==============================] - 10s 6ms/step - loss: 1.0318 - accuracy: 0.6331 - val_loss: 1.0473 - val_accuracy: 0.6289\n",
            "Epoch 6/25\n",
            "1563/1563 [==============================] - 9s 6ms/step - loss: 0.9492 - accuracy: 0.6626 - val_loss: 1.0193 - val_accuracy: 0.6376\n",
            "Epoch 7/25\n",
            "1563/1563 [==============================] - 10s 6ms/step - loss: 0.8768 - accuracy: 0.6893 - val_loss: 1.0034 - val_accuracy: 0.6478\n",
            "Epoch 8/25\n",
            "1563/1563 [==============================] - 10s 6ms/step - loss: 0.8216 - accuracy: 0.7093 - val_loss: 0.9950 - val_accuracy: 0.6515\n",
            "Epoch 9/25\n",
            "1563/1563 [==============================] - 10s 6ms/step - loss: 0.7621 - accuracy: 0.7314 - val_loss: 0.9740 - val_accuracy: 0.6597\n",
            "Epoch 10/25\n",
            "1563/1563 [==============================] - 10s 6ms/step - loss: 0.7082 - accuracy: 0.7470 - val_loss: 0.9704 - val_accuracy: 0.6665\n",
            "Epoch 11/25\n",
            "1563/1563 [==============================] - 10s 6ms/step - loss: 0.6630 - accuracy: 0.7653 - val_loss: 0.9655 - val_accuracy: 0.6719\n",
            "Epoch 12/25\n",
            "1563/1563 [==============================] - 9s 6ms/step - loss: 0.6193 - accuracy: 0.7776 - val_loss: 0.9754 - val_accuracy: 0.6740\n",
            "Epoch 13/25\n",
            "1563/1563 [==============================] - 10s 7ms/step - loss: 0.5856 - accuracy: 0.7921 - val_loss: 0.9742 - val_accuracy: 0.6754\n",
            "Epoch 14/25\n",
            "1563/1563 [==============================] - 10s 7ms/step - loss: 0.5490 - accuracy: 0.8042 - val_loss: 0.9841 - val_accuracy: 0.6738\n",
            "Epoch 15/25\n",
            "1563/1563 [==============================] - 10s 6ms/step - loss: 0.5160 - accuracy: 0.8175 - val_loss: 0.9611 - val_accuracy: 0.6831\n",
            "Epoch 16/25\n",
            "1563/1563 [==============================] - 10s 6ms/step - loss: 0.4870 - accuracy: 0.8293 - val_loss: 0.9721 - val_accuracy: 0.6853\n",
            "Epoch 17/25\n",
            "1563/1563 [==============================] - 10s 6ms/step - loss: 0.4577 - accuracy: 0.8383 - val_loss: 0.9823 - val_accuracy: 0.6850\n",
            "Epoch 18/25\n",
            "1563/1563 [==============================] - 10s 6ms/step - loss: 0.4378 - accuracy: 0.8455 - val_loss: 0.9964 - val_accuracy: 0.6861\n",
            "Epoch 19/25\n",
            "1563/1563 [==============================] - 9s 6ms/step - loss: 0.4103 - accuracy: 0.8553 - val_loss: 1.0028 - val_accuracy: 0.6899\n",
            "Epoch 20/25\n",
            "1563/1563 [==============================] - 10s 7ms/step - loss: 0.3893 - accuracy: 0.8616 - val_loss: 1.0205 - val_accuracy: 0.6862\n",
            "Epoch 21/25\n",
            "1563/1563 [==============================] - 9s 6ms/step - loss: 0.3732 - accuracy: 0.8695 - val_loss: 1.0228 - val_accuracy: 0.6844\n",
            "Epoch 22/25\n",
            "1563/1563 [==============================] - 9s 6ms/step - loss: 0.3514 - accuracy: 0.8746 - val_loss: 1.0334 - val_accuracy: 0.6847\n",
            "Epoch 23/25\n",
            "1563/1563 [==============================] - 10s 7ms/step - loss: 0.3404 - accuracy: 0.8816 - val_loss: 1.0362 - val_accuracy: 0.6901\n",
            "Epoch 24/25\n",
            "1563/1563 [==============================] - 9s 6ms/step - loss: 0.3253 - accuracy: 0.8851 - val_loss: 1.0468 - val_accuracy: 0.6902\n",
            "Epoch 25/25\n",
            "1563/1563 [==============================] - 10s 6ms/step - loss: 0.3053 - accuracy: 0.8928 - val_loss: 1.0565 - val_accuracy: 0.6917\n",
            "Accuracy: 69.17%\n"
          ]
        }
      ]
    },
    {
      "cell_type": "markdown",
      "source": [
        "In class programming:\n",
        "1. Follow the instruction below and then report how the performance changed.(apply all at once)\n",
        "\n",
        "• Convolutional input layer, 32 feature maps with a size of 3×3 and a rectifier activation function.\n",
        "\n",
        "• Dropout layer at 20%.\n",
        "\n",
        "• Convolutional layer, 32 feature maps with a size of 3×3 and a rectifier activation function.\n",
        "\n",
        "• Max Pool layer with size 2×2.\n",
        "\n",
        "• Convolutional layer, 64 feature maps with a size of 3×3 and a rectifier activation function.\n",
        "\n",
        "• Dropout layer at 20%.\n",
        "\n",
        "• Convolutional layer, 64 feature maps with a size of 3×3 and a rectifier activation function.\n",
        "\n",
        "• Max Pool layer with size 2×2.\n",
        "\n",
        "• Convolutional layer, 128 feature maps with a size of 3×3 and a rectifier activation function.\n",
        "\n",
        "• Dropout layer at 20%.\n",
        "\n",
        "• Convolutional layer,128 feature maps with a size of 3×3 and a rectifier activation function.\n",
        "\n",
        "• Max Pool layer with size 2×2.\n",
        "\n",
        "• Flatten layer.\n",
        "\n",
        "• Dropout layer at 20%.\n",
        "\n",
        "• Fully connected layer with 1024 units and a rectifier activation function.\n",
        "\n",
        "• Dropout layer at 20%.\n",
        "\n",
        "• Fully connected layer with 512 units and a rectifier activation function.\n",
        "\n",
        "• Dropout layer at 20%.\n",
        "\n",
        "• Fully connected output layer with 10 units and a Softmax activation function"
      ],
      "metadata": {
        "id": "_a-bah8AQJEM"
      }
    },
    {
      "cell_type": "code",
      "source": [
        "# Create the model\n",
        "model = Sequential()\n",
        "model.add(Conv2D(32, (3, 3), input_shape=(32, 32, 3), activation='relu', padding='same'))\n",
        "model.add(Dropout(0.2))\n",
        "model.add(Conv2D(32, (3, 3), activation='relu', padding='same'))\n",
        "model.add(MaxPooling2D(pool_size=(2, 2)))\n",
        "\n",
        "model.add(Conv2D(64, (3, 3), activation='relu', padding='same'))\n",
        "model.add(Dropout(0.2))\n",
        "model.add(Conv2D(64, (3, 3), activation='relu', padding='same'))\n",
        "model.add(MaxPooling2D(pool_size=(2, 2)))\n",
        "\n",
        "model.add(Conv2D(128, (3, 3), activation='relu', padding='same'))\n",
        "model.add(Dropout(0.2))\n",
        "model.add(Conv2D(128, (3, 3), activation='relu', padding='same'))\n",
        "model.add(MaxPooling2D(pool_size=(2, 2)))\n",
        "\n",
        "model.add(Flatten())\n",
        "model.add(Dropout(0.2))\n",
        "model.add(Dense(1024, activation='relu'))\n",
        "model.add(Dropout(0.2))\n",
        "model.add(Dense(512, activation='relu'))\n",
        "model.add(Dropout(0.2))\n",
        "model.add(Dense(num_classes, activation='softmax'))"
      ],
      "metadata": {
        "id": "hbcSYhHUMKUB"
      },
      "execution_count": null,
      "outputs": []
    },
    {
      "cell_type": "code",
      "source": [
        "# Compile model\n",
        "epochs = 25\n",
        "lrate = 0.01\n",
        "decay = lrate / epochs\n",
        "\n",
        "model.compile(loss='categorical_crossentropy', optimizer='sgd', metrics=['accuracy'])\n",
        "print(model.summary())"
      ],
      "metadata": {
        "colab": {
          "base_uri": "https://localhost:8080/"
        },
        "id": "ISWmo7m4MLXU",
        "outputId": "076412f1-f002-43af-ac27-534bdd6c681f"
      },
      "execution_count": null,
      "outputs": [
        {
          "output_type": "stream",
          "name": "stdout",
          "text": [
            "Model: \"sequential_1\"\n",
            "_________________________________________________________________\n",
            " Layer (type)                Output Shape              Param #   \n",
            "=================================================================\n",
            " conv2d_2 (Conv2D)           (None, 32, 32, 32)        896       \n",
            "                                                                 \n",
            " dropout_2 (Dropout)         (None, 32, 32, 32)        0         \n",
            "                                                                 \n",
            " conv2d_3 (Conv2D)           (None, 32, 32, 32)        9248      \n",
            "                                                                 \n",
            " max_pooling2d_1 (MaxPooling  (None, 16, 16, 32)       0         \n",
            " 2D)                                                             \n",
            "                                                                 \n",
            " conv2d_4 (Conv2D)           (None, 16, 16, 64)        18496     \n",
            "                                                                 \n",
            " dropout_3 (Dropout)         (None, 16, 16, 64)        0         \n",
            "                                                                 \n",
            " conv2d_5 (Conv2D)           (None, 16, 16, 64)        36928     \n",
            "                                                                 \n",
            " max_pooling2d_2 (MaxPooling  (None, 8, 8, 64)         0         \n",
            " 2D)                                                             \n",
            "                                                                 \n",
            " conv2d_6 (Conv2D)           (None, 8, 8, 128)         73856     \n",
            "                                                                 \n",
            " dropout_4 (Dropout)         (None, 8, 8, 128)         0         \n",
            "                                                                 \n",
            " conv2d_7 (Conv2D)           (None, 8, 8, 128)         147584    \n",
            "                                                                 \n",
            " max_pooling2d_3 (MaxPooling  (None, 4, 4, 128)        0         \n",
            " 2D)                                                             \n",
            "                                                                 \n",
            " flatten_1 (Flatten)         (None, 2048)              0         \n",
            "                                                                 \n",
            " dropout_5 (Dropout)         (None, 2048)              0         \n",
            "                                                                 \n",
            " dense_2 (Dense)             (None, 1024)              2098176   \n",
            "                                                                 \n",
            " dropout_6 (Dropout)         (None, 1024)              0         \n",
            "                                                                 \n",
            " dense_3 (Dense)             (None, 512)               524800    \n",
            "                                                                 \n",
            " dropout_7 (Dropout)         (None, 512)               0         \n",
            "                                                                 \n",
            " dense_4 (Dense)             (None, 10)                5130      \n",
            "                                                                 \n",
            "=================================================================\n",
            "Total params: 2,915,114\n",
            "Trainable params: 2,915,114\n",
            "Non-trainable params: 0\n",
            "_________________________________________________________________\n",
            "None\n"
          ]
        }
      ]
    },
    {
      "cell_type": "code",
      "source": [
        "history = model.fit(X_train, y_train, validation_data=(X_test, y_test), epochs=epochs, batch_size=32, verbose=1)"
      ],
      "metadata": {
        "colab": {
          "base_uri": "https://localhost:8080/"
        },
        "id": "C_My75x7MPGe",
        "outputId": "bd9d9cec-df3c-4ee7-8224-6eb71d6e1702"
      },
      "execution_count": null,
      "outputs": [
        {
          "output_type": "stream",
          "name": "stdout",
          "text": [
            "Epoch 1/25\n",
            "1563/1563 [==============================] - 15s 8ms/step - loss: 2.1448 - accuracy: 0.1978 - val_loss: 1.9275 - val_accuracy: 0.3111\n",
            "Epoch 2/25\n",
            "1563/1563 [==============================] - 12s 8ms/step - loss: 1.8119 - accuracy: 0.3427 - val_loss: 1.6578 - val_accuracy: 0.4007\n",
            "Epoch 3/25\n",
            "1563/1563 [==============================] - 12s 8ms/step - loss: 1.6236 - accuracy: 0.4081 - val_loss: 1.4978 - val_accuracy: 0.4657\n",
            "Epoch 4/25\n",
            "1563/1563 [==============================] - 12s 8ms/step - loss: 1.4924 - accuracy: 0.4573 - val_loss: 1.3815 - val_accuracy: 0.5091\n",
            "Epoch 5/25\n",
            "1563/1563 [==============================] - 12s 8ms/step - loss: 1.3904 - accuracy: 0.4944 - val_loss: 1.3147 - val_accuracy: 0.5238\n",
            "Epoch 6/25\n",
            "1563/1563 [==============================] - 12s 8ms/step - loss: 1.2971 - accuracy: 0.5306 - val_loss: 1.2667 - val_accuracy: 0.5447\n",
            "Epoch 7/25\n",
            "  22/1563 [..............................] - ETA: 11s - loss: 1.2496 - accuracy: 0.5597"
          ]
        }
      ]
    },
    {
      "cell_type": "code",
      "source": [
        "# Final evaluation of the model\n",
        "scores = model.evaluate(X_test, y_test, verbose=0)\n",
        "print(\"Accuracy: %.2f%%\" % (scores[1]*100))"
      ],
      "metadata": {
        "id": "OFKbgujjPDLr",
        "colab": {
          "base_uri": "https://localhost:8080/"
        },
        "outputId": "67013619-ecea-4ad3-8818-ee500fe9317d"
      },
      "execution_count": null,
      "outputs": [
        {
          "output_type": "stream",
          "name": "stdout",
          "text": [
            "Accuracy: 76.09%\n"
          ]
        }
      ]
    },
    {
      "cell_type": "markdown",
      "source": [
        "Did the performance change?"
      ],
      "metadata": {
        "id": "7_XG_LmXQjfy"
      }
    },
    {
      "cell_type": "markdown",
      "source": [
        "Yes, the performance changed as we added more layers to the model. There was almost 8 percent increase in the accuracy."
      ],
      "metadata": {
        "id": "qyDCxO1NQwxl"
      }
    },
    {
      "cell_type": "markdown",
      "source": [
        "2. Predict the first 4 images of the test data using the above model. Then, compare with the actual label for those 4\n",
        "images to check whether or not the model has predicted correctly."
      ],
      "metadata": {
        "id": "vdr5aWlnRRm6"
      }
    },
    {
      "cell_type": "code",
      "source": [
        "# Predict the first 4 images from the test set\n",
        "predictions = model.predict(X_test[:4])\n",
        "\n",
        "# Convert predictions to class labels\n",
        "predicted_labels = np.argmax(predictions, axis=1)\n",
        "\n",
        "# Convert one-hot encoded labels to class labels\n",
        "actual_labels = np.argmax(y_test[:4], axis=1)\n",
        "\n",
        "# Print the results\n",
        "for i in range(4):\n",
        "    print(\"Predicted:\", predicted_labels[i], \"| Actual:\", actual_labels[i])"
      ],
      "metadata": {
        "id": "YX86QpU0MZUC",
        "colab": {
          "base_uri": "https://localhost:8080/"
        },
        "outputId": "43c7a7af-3b7b-4776-f147-e196b20314ea"
      },
      "execution_count": null,
      "outputs": [
        {
          "output_type": "stream",
          "name": "stdout",
          "text": [
            "1/1 [==============================] - 0s 19ms/step\n",
            "Predicted: 3 | Actual: 3\n",
            "Predicted: 8 | Actual: 8\n",
            "Predicted: 8 | Actual: 8\n",
            "Predicted: 0 | Actual: 0\n"
          ]
        }
      ]
    },
    {
      "cell_type": "markdown",
      "source": [
        "3. Visualize Loss and Accuracy using the history object"
      ],
      "metadata": {
        "id": "xMby19WqRj_I"
      }
    },
    {
      "cell_type": "code",
      "source": [
        "import matplotlib.pyplot as plt\n",
        "\n",
        "# Plot training and validation loss\n",
        "plt.plot(history.history['loss'], label='Training Loss')\n",
        "plt.plot(history.history['val_loss'], label='Validation Loss')\n",
        "plt.xlabel('Epoch')\n",
        "plt.ylabel('Loss')\n",
        "plt.legend()\n",
        "plt.show()\n",
        "\n",
        "# Plot training and validation accuracy\n",
        "plt.plot(history.history['accuracy'], label='Training Accuracy')\n",
        "plt.plot(history.history['val_accuracy'], label='Validation Accuracy')\n",
        "plt.xlabel('Epoch')\n",
        "plt.ylabel('Accuracy')\n",
        "plt.legend()\n",
        "plt.show()"
      ],
      "metadata": {
        "id": "H0zlzzOuMa4Y",
        "colab": {
          "base_uri": "https://localhost:8080/",
          "height": 882
        },
        "outputId": "7983e5ff-7fc4-424d-b489-b59b8e8de52b"
      },
      "execution_count": null,
      "outputs": [
        {
          "output_type": "display_data",
          "data": {
            "text/plain": [
              "<Figure size 640x480 with 1 Axes>"
            ],
            "image/png": "[encoded data removed]"
          },
          "metadata": {}
        },
        {
          "output_type": "display_data",
          "data": {
            "text/plain": [
              "<Figure size 640x480 with 1 Axes>"
            ],
            "image/png": "[encoded data removed]"
          },
          "metadata": {}
        }
      ]
    },
    {
      "cell_type": "code",
      "source": [],
      "metadata": {
        "id": "fJqnJQJDjNnG"
      },
      "execution_count": null,
      "outputs": []
    }
  ]
}